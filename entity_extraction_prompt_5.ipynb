{
 "cells": [
  {
   "cell_type": "code",
   "execution_count": 1,
   "id": "b26cdfb5",
   "metadata": {},
   "outputs": [],
   "source": [
    "import os\n",
    "from litellm import completion\n",
    "from dotenv import load_dotenv\n",
    "from tqdm import tqdm\n",
    "import textwrap\n",
    "from GrobidArticleExtractor import GrobidArticleExtractor\n",
    "from langchain.prompts import PromptTemplate\n",
    "from entity_extraction import ChatOpenRouter, parse_pdf,create_chain, run_chain_on_small_chunks,batch_extract_and_format"
   ]
  },
  {
   "cell_type": "code",
   "execution_count": 2,
   "id": "f434599e",
   "metadata": {},
   "outputs": [],
   "source": [
    "load_dotenv()\n",
    "OPENROUTER_API_KEY = os.environ[\"OPENROUTER_API_KEY\"] \n",
    "GROBID_SERVER_URL = os.environ[\"GROBID_SERVER_URL\"]"
   ]
  },
  {
   "cell_type": "code",
   "execution_count": 3,
   "id": "e2c3d9da",
   "metadata": {},
   "outputs": [],
   "source": [
    "grobid_client = GrobidArticleExtractor(GROBID_SERVER_URL)\n"
   ]
  },
  {
   "cell_type": "code",
   "execution_count": 4,
   "id": "3e1a8d10",
   "metadata": {},
   "outputs": [],
   "source": [
    "phillips_text = parse_pdf('data/Phillips_2023_11pg.pdf', grobid_client)"
   ]
  },
  {
   "cell_type": "code",
   "execution_count": 5,
   "id": "f8c12593",
   "metadata": {},
   "outputs": [],
   "source": [
    "in_place_tagging_prompt = PromptTemplate(\n",
    "    input_variables=[\"neuroscience_text\"],\n",
    "    template=textwrap.dedent(\"\"\"\\\n",
    "    **Background**\n",
    "    You are a highly skilled neuroscience expert with extensive experience in named entity recognition and research publication entity annotation.\n",
    "    \n",
    "    **Task**\n",
    "    Meticulously extract and classify all relevant entities into the most appropriate and specific category from the provided neuroscience text. \n",
    "    The list of entities extracted should be exhaustive and comprehensive. You should identify and label all entities, including duplicates.                                                             \n",
    "    Please ensure that all entities are accurately identified and classified according to their role within the neuroscience domain. \n",
    "    IMPORTANT: DO NOT modify the input text in any way. Use the text as is, without any alterations or corrections. \n",
    "    \n",
    "    **Output Format**\n",
    "    Return only the full text with in‑place annotations.\n",
    "    The format for the annotations is as follows:\n",
    "    (entity)[LABEL]\n",
    "    Where entity is the extracted entity (not altered or modified), and LABEL is an UPPERCASE, underscore‑style category.\n",
    "    All extracted entities should be in parentheses, followed by the label in square brackets.\n",
    "    \n",
    "    **Example**\n",
    "    Input Text: \"Histamine is a conserved neuromodulator\"\n",
    "    Output: \"(Histamine)[AMINE] is a conserved (neuromodulator)[HORMONE]\"\n",
    "                                 \n",
    "    **Input Text**:\n",
    "    {neuroscience_text}\n",
    "    \"\"\"\n",
    "    )\n",
    ")          "
   ]
  },
  {
   "cell_type": "code",
   "execution_count": 6,
   "id": "40a5970f",
   "metadata": {},
   "outputs": [],
   "source": [
    "llm_gpt_4o_mini = ChatOpenRouter(model_name='openai/gpt-4o-mini')\n",
    "llm_gemini_20_flash = ChatOpenRouter(model_name='google/gemini-2.0-flash-001')\n",
    "llm_claude_37_sonnet = ChatOpenRouter(model_name='anthropic/claude-3.7-sonnet')\n",
    "llm_deepseek_v3 = ChatOpenRouter(model_name='deepseek/deepseek-chat-v3-0324:free')\n"
   ]
  },
  {
   "cell_type": "code",
   "execution_count": null,
   "id": "97a3df2a",
   "metadata": {},
   "outputs": [],
   "source": [
    "gpt_ner_chain = create_chain(\n",
    "    llm=llm_gpt_4o_mini,\n",
    "    prompt=in_place_tagging_prompt\n",
    ")\n",
    "phillips_gpt_ner_output = run_chain_on_small_chunks(phillips_text, gpt_ner_chain)\n",
    "batch_extract_and_format(phillips_gpt_ner_output, model_name='gpt-4o-mini', file_prefix='phillips', save_to_file=True, prompt=in_place_tagging_prompt)"
   ]
  },
  {
   "cell_type": "code",
   "execution_count": 7,
   "id": "b5156b0c",
   "metadata": {},
   "outputs": [
    {
     "name": "stderr",
     "output_type": "stream",
     "text": [
      "Running NER on sections: 100%|██████████| 12/12 [01:30<00:00,  7.55s/it]"
     ]
    },
    {
     "name": "stdout",
     "output_type": "stream",
     "text": [
      "Results saved to phillips_gemini-2.0-flash-001_2025-05-08_23-42-35.json\n"
     ]
    },
    {
     "name": "stderr",
     "output_type": "stream",
     "text": [
      "\n"
     ]
    }
   ],
   "source": [
    "gemini_ner_chain = create_chain(\n",
    "    llm=llm_gemini_20_flash,\n",
    "    prompt=in_place_tagging_prompt\n",
    ")\n",
    "phillips_gemini_ner_output = run_chain_on_small_chunks(phillips_text, gemini_ner_chain)\n",
    "batch_extract_and_format(phillips_gemini_ner_output, model_name='gemini-2.0-flash-001', file_prefix='phillips', save_to_file=True, prompt=in_place_tagging_prompt)"
   ]
  },
  {
   "cell_type": "code",
   "execution_count": 8,
   "id": "b75720d2",
   "metadata": {},
   "outputs": [
    {
     "name": "stderr",
     "output_type": "stream",
     "text": [
      "Running NER on sections: 100%|██████████| 12/12 [04:01<00:00, 20.16s/it]"
     ]
    },
    {
     "name": "stdout",
     "output_type": "stream",
     "text": [
      "Results saved to phillips_claude-3.7-sonnet_2025-05-08_23-47-46.json\n"
     ]
    },
    {
     "name": "stderr",
     "output_type": "stream",
     "text": [
      "\n"
     ]
    }
   ],
   "source": [
    "claude_ner_chain = create_chain(\n",
    "    llm=llm_claude_37_sonnet,\n",
    "    prompt=in_place_tagging_prompt\n",
    ")\n",
    "phillips_claude_ner_output = run_chain_on_small_chunks(phillips_text, claude_ner_chain)\n",
    "batch_extract_and_format(phillips_claude_ner_output, model_name='claude-3.7-sonnet', file_prefix='phillips', save_to_file=True, prompt=in_place_tagging_prompt)"
   ]
  },
  {
   "cell_type": "code",
   "execution_count": 9,
   "id": "60ff8bbe",
   "metadata": {},
   "outputs": [
    {
     "name": "stderr",
     "output_type": "stream",
     "text": [
      "Running NER on sections: 100%|██████████| 12/12 [20:48<00:00, 104.03s/it]"
     ]
    },
    {
     "name": "stdout",
     "output_type": "stream",
     "text": [
      "Results saved to phillips_deepseek-chat-v3-0324_2025-05-09_00-09-01.json\n"
     ]
    },
    {
     "name": "stderr",
     "output_type": "stream",
     "text": [
      "\n"
     ]
    }
   ],
   "source": [
    "deepseek_ner_chain = create_chain(\n",
    "    llm=llm_deepseek_v3,\n",
    "    prompt=in_place_tagging_prompt\n",
    ")\n",
    "phillips_deepseek_ner_output = run_chain_on_small_chunks(phillips_text, deepseek_ner_chain)\n",
    "batch_extract_and_format(phillips_deepseek_ner_output, model_name='deepseek-chat-v3-0324', file_prefix='phillips', save_to_file=True, prompt=in_place_tagging_prompt)"
   ]
  }
 ],
 "metadata": {
  "kernelspec": {
   "display_name": "venv",
   "language": "python",
   "name": "python3"
  },
  "language_info": {
   "codemirror_mode": {
    "name": "ipython",
    "version": 3
   },
   "file_extension": ".py",
   "mimetype": "text/x-python",
   "name": "python",
   "nbconvert_exporter": "python",
   "pygments_lexer": "ipython3",
   "version": "3.12.4"
  }
 },
 "nbformat": 4,
 "nbformat_minor": 5
}
